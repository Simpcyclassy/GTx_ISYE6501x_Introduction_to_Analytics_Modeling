{
 "cells": [
  {
   "cell_type": "code",
   "execution_count": 2,
   "id": "d2875deb",
   "metadata": {},
   "outputs": [
    {
     "name": "stdout",
     "output_type": "stream",
     "text": [
      "Average wait time: 117.53 minutes\n"
     ]
    }
   ],
   "source": [
    "import simpy\n",
    "import random\n",
    "\n",
    "def passenger(env, name, id_check, scanners):\n",
    "    arrival_time = env.now\n",
    "    with id_check.request() as req:\n",
    "        yield req\n",
    "        yield env.timeout(random.expovariate(1 / 0.75))  # ID check service time\n",
    "\n",
    "    # Choose shortest scanner queue\n",
    "    scanner = min(scanners, key=lambda s: len(s.queue))\n",
    "    with scanner.request() as req:\n",
    "        yield req\n",
    "        yield env.timeout(random.uniform(0.5, 1))  # Personal check time\n",
    "\n",
    "    wait_time = env.now - arrival_time\n",
    "    wait_times.append(wait_time)\n",
    "\n",
    "def arrival_process(env, id_check, scanners, rate):\n",
    "    i = 0\n",
    "    while True:\n",
    "        yield env.timeout(random.expovariate(rate))\n",
    "        env.process(passenger(env, f\"Passenger {i}\", id_check, scanners))\n",
    "        i += 1\n",
    "\n",
    "# Parameters\n",
    "arrival_rate = 5  # λ = 5 per minute\n",
    "wait_times = []\n",
    "\n",
    "# Simulation setup\n",
    "env = simpy.Environment()\n",
    "id_check = simpy.Resource(env, capacity=3)  # Try 2, 3, 4...\n",
    "scanners = [simpy.Resource(env, capacity=1) for _ in range(3)]  # Try 2, 3, 4...\n",
    "\n",
    "env.process(arrival_process(env, id_check, scanners, arrival_rate))\n",
    "env.run(until=1000)\n",
    "\n",
    "# Results\n",
    "average_wait = sum(wait_times) / len(wait_times)\n",
    "print(f\"Average wait time: {average_wait:.2f} minutes\")\n"
   ]
  },
  {
   "cell_type": "code",
   "execution_count": null,
   "id": "1356d7b7-957a-405d-98ea-8efb1a71b651",
   "metadata": {},
   "outputs": [],
   "source": []
  }
 ],
 "metadata": {
  "kernelspec": {
   "display_name": "Python 3 (ipykernel)",
   "language": "python",
   "name": "python3"
  },
  "language_info": {
   "codemirror_mode": {
    "name": "ipython",
    "version": 3
   },
   "file_extension": ".py",
   "mimetype": "text/x-python",
   "name": "python",
   "nbconvert_exporter": "python",
   "pygments_lexer": "ipython3",
   "version": "3.14.0"
  }
 },
 "nbformat": 4,
 "nbformat_minor": 5
}
